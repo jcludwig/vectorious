{
 "cells": [
  {
   "cell_type": "code",
   "execution_count": 13,
   "metadata": {},
   "outputs": [],
   "source": [
    "# Imports\n",
    "from sympy import symbols\n",
    "#from sympy.physics.mechanics import *\n",
    "from sympy.physics import units\n",
    "from sympy import sqrt\n",
    "\n",
    "# useful constants & conversion factors\n",
    "plywood_density = 760*units.kg/units.meter**3  # kg/m^3"
   ]
  },
  {
   "cell_type": "code",
   "execution_count": 3,
   "metadata": {},
   "outputs": [
    {
     "name": "stdout",
     "output_type": "stream",
     "text": [
      "0.28956*kilogram\n"
     ]
    }
   ],
   "source": [
    "# Basic calculations for the weight of the beam\n",
    "\n",
    "beam_length = 1*units.meter\n",
    "beam_width = units.convert_to(2*units.centimeter, units.meter)\n",
    "beam_thickness = units.convert_to(.75*units.inch, units.meter)\n",
    "\n",
    "beam_volume = beam_length*beam_width*beam_thickness\n",
    "beam_weight = plywood_density*beam_volume\n",
    "\n",
    "print(beam_weight)"
   ]
  },
  {
   "cell_type": "code",
   "execution_count": 17,
   "metadata": {},
   "outputs": [
    {
     "name": "stdout",
     "output_type": "stream",
     "text": [
      "68.64655*joule\n"
     ]
    }
   ],
   "source": [
    "# Potential energy of counter-weight\n",
    "\n",
    "cw_mass = 7*units.kilogram\n",
    "cw_height = 1*units.meter\n",
    "g = units.convert_to(units.acceleration_due_to_gravity, units.meters/(units.second**2))\n",
    "PE = cw_mass*g*cw_height\n",
    "\n",
    "print(units.convert_to(PE, units.joule))"
   ]
  },
  {
   "cell_type": "code",
   "execution_count": 18,
   "metadata": {},
   "outputs": [
    {
     "name": "stdout",
     "output_type": "stream",
     "text": [
      "54.6317911906213*meter/second\n"
     ]
    }
   ],
   "source": [
    "# Kinetic energy of projectile at launch\n",
    "KE = PE  # efficiency factor?\n",
    "\n",
    "proj_mass = 0.046 * units.kilogram  # got this from virtualtrebuchet.com\n",
    "\n",
    "# Velocity of projectile\n",
    "proj_vel = sqrt((2.0*KE)/proj_mass)\n",
    "\n",
    "print(proj_vel)"
   ]
  }
 ],
 "metadata": {
  "interpreter": {
   "hash": "97ae724bfa85b9b34df7982b8bb8c7216f435b92902d749e4263f71162bea840"
  },
  "kernelspec": {
   "display_name": "Python 3.9.7 ('base')",
   "language": "python",
   "name": "python3"
  },
  "language_info": {
   "codemirror_mode": {
    "name": "ipython",
    "version": 3
   },
   "file_extension": ".py",
   "mimetype": "text/x-python",
   "name": "python",
   "nbconvert_exporter": "python",
   "pygments_lexer": "ipython3",
   "version": "3.9.7"
  },
  "orig_nbformat": 4
 },
 "nbformat": 4,
 "nbformat_minor": 2
}
